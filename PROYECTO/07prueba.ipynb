{
 "cells": [
  {
   "cell_type": "markdown",
   "id": "20e9dea9",
   "metadata": {},
   "source": [
    "# Aplicación del Modelo Predictivo: Ejemplos\n",
    "\n",
    "Este notebook muestra tres ejemplos de uso del modelo predictivo de regresión logística para predecir si un estudiante aprobará o reprobará Biología, utilizando datos simulados como entrada."
   ]
  },
  {
   "cell_type": "code",
   "execution_count": null,
   "id": "9c5822e9",
   "metadata": {},
   "outputs": [],
   "source": [
    "import pandas as pd\n",
    "from sklearn.linear_model import LogisticRegression\n",
    "\n",
    "# Datos de ejemplo\n",
    "ejemplos = pd.DataFrame({\n",
    "    'Nota 1': [5.8, 3.9, 4.5],\n",
    "    'Nota 2': [6.0, 3.7, 4.9],\n",
    "    'Asistencia Clases (%)': [95, 60, 80],\n",
    "    'Asistencia Laboratorio (%)': [90, 50, 75]\n",
    "})\n",
    "\n",
    "# Mostrar los ejemplos\n",
    "print(\"Ejemplos de estudiantes a evaluar:\")\n",
    "print(ejemplos)\n"
   ]
  },
  {
   "cell_type": "code",
   "execution_count": null,
   "id": "5060c791",
   "metadata": {},
   "outputs": [],
   "source": [
    "# Dataset simulado\n",
    "data = pd.read_csv(\"1DATABASE1.csv\", sep=';')\n",
    "data['Nota 1'] = data['Nota 1'].astype(str).str.replace(',', '.').astype(float)\n",
    "data['Nota 2'] = data['Nota 2'].astype(str).str.replace(',', '.').astype(float)\n",
    "data['APROBADO/REPROBADO'] = data['APROBADO/REPROBADO'].map({'APROBADO': 1, 'REPROBADO': 0})\n",
    "\n",
    "X = data[['Nota 1', 'Nota 2', 'Asistencia Clases (%)', 'Asistencia Laboratorio (%)']]\n",
    "y = data['APROBADO/REPROBADO']\n",
    "\n",
    "modelo = LogisticRegression()\n",
    "modelo.fit(X, y)\n"
   ]
  },
  {
   "cell_type": "code",
   "execution_count": null,
   "id": "58fbf8be",
   "metadata": {},
   "outputs": [],
   "source": [
    "# Predicción\n",
    "predicciones = modelo.predict(ejemplos)\n",
    "probs = modelo.predict_proba(ejemplos)[:, 1]\n",
    "\n",
    "# Mostrar resultados\n",
    "resultados = ejemplos.copy()\n",
    "resultados['Probabilidad de Aprobar'] = probs\n",
    "resultados['Predicción'] = predicciones\n",
    "resultados['Predicción'] = resultados['Predicción'].map({1: 'APROBADO', 0: 'REPROBADO'})\n",
    "\n",
    "print(\"Resultados del modelo sobre los ejemplos:\")\n",
    "print(resultados)\n"
   ]
  }
 ],
 "metadata": {},
 "nbformat": 4,
 "nbformat_minor": 5
}
