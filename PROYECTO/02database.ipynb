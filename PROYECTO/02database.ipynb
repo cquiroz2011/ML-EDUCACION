{
  "nbformat": 4,
  "nbformat_minor": 0,
  "metadata": {
    "colab": {
      "provenance": []
    },
    "kernelspec": {
      "name": "python3",
      "display_name": "Python 3"
    },
    "language_info": {
      "name": "python"
    }
  },
  "cells": [
    {
      "cell_type": "code",
      "execution_count": null,
      "metadata": {
        "id": "xzP88QZzIyYG"
      },
      "outputs": [],
      "source": []
    },
    {
      "cell_type": "markdown",
      "source": [
        "#Prediccion de reprobación de biologia en 1 medio\n"
      ],
      "metadata": {
        "id": "cFEt_Pz7JShW"
      }
    },
    {
      "cell_type": "code",
      "source": [
        "# Predicción de reprobacion en Biología 1 medio Este proyecto busca predecir si\n",
        "# un estudiante de 1º medio reprobará Biología al final del año escolar,usando los siguientes datos:\n",
        "# nota 1\n",
        "# nota 2\n",
        "# % asistencia a clases\n",
        "# % asistencia a laboratorios\n",
        "# Promedio\n",
        "# Aprobado Reprobado.\n",
        "\n",
        "Explicación de cada columna.\n",
        "\n",
        "# Nombre: Identificador del estudiante.(estudiante 1, estudiante 2, etc. )\n",
        "# Nota: Notas obtenidas en evaluaciones parciales de la asignatura de Biología (1.0 a 7.0)\n",
        "# Asistencia clases (%): Porcentaje de asistencia del estudiante a clases regulares (0% a 100%)\n",
        "# Asistencia Laboratorio: Porcentaje de asistencia del estudiante a sesiones practicas en laboratorio de Biología.(0% a 100%)\n",
        "# Promedio: Promedio final del estudiante en la asignatura.(0 a 70)\n",
        "# Aprobado/Reprobado: Indica si el estudiante aprobó o no el ramo.(A: aprobado, R: reprobado)\n",
        "\n",
        "\n",
        "\n"
      ],
      "metadata": {
        "id": "l7COFIi4Joji"
      },
      "execution_count": 1,
      "outputs": []
    }
  ]
}