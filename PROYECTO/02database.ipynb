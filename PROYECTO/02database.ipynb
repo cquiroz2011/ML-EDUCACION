{
 "cells": [
  {
   "cell_type": "markdown",
   "id": "f4d4541c",
   "metadata": {},
   "source": [
    "# Exploración de Datos: 1DATABASE1.csv"
   ]
  },
  {
   "cell_type": "markdown",
   "id": "238d3581",
   "metadata": {},
   "source": [
    "Este notebook tiene como objetivo explorar y describir las columnas del archivo **1DATABASE1.csv**,\n",
    "así como presentar los valores típicos de cada variable (media, mínimo, máximo, desviación estándar, etc.).\n"
   ]
  },
  {
   "cell_type": "code",
   "execution_count": null,
   "id": "45a8fffa",
   "metadata": {},
   "outputs": [],
   "source": [
    "import pandas as pd\n",
    "\n",
    "# Cargar el archivo CSV\n",
    "df = pd.read_csv(\"1DATABASE1.csv\", sep=';')\n",
    "\n",
    "# Mostrar las primeras filas\n",
    "df.head()\n"
   ]
  },
  {
   "cell_type": "markdown",
   "id": "4c58040f",
   "metadata": {},
   "source": [
    "## Descripción de las columnas\n",
    "\n",
    "- **Nombre**: Identificador del estudiante.\n",
    "- **Nota 1**: Primera calificación parcial en Biología. Formato decimal con coma (ej. 5,5).\n",
    "- **Nota 2**: Segunda calificación parcial.\n",
    "- **Asistencia Clases (%)**: Porcentaje de asistencia a clases teóricas.\n",
    "- **Asistencia Laboratorio (%)**: Porcentaje de asistencia a sesiones de laboratorio.\n",
    "- **APROBADO/REPROBADO**: Variable cualitativa que indica si el estudiante aprobó o reprobó la asignatura.\n"
   ]
  },
  {
   "cell_type": "code",
   "execution_count": null,
   "id": "6949c7fb",
   "metadata": {},
   "outputs": [],
   "source": [
    "# Convertir notas de texto con coma a float\n",
    "df['Nota 1'] = df['Nota 1'].astype(str).str.replace(',', '.').astype(float)\n",
    "df['Nota 2'] = df['Nota 2'].astype(str).str.replace(',', '.').astype(float)\n"
   ]
  },
  {
   "cell_type": "code",
   "execution_count": null,
   "id": "77cb7465",
   "metadata": {},
   "outputs": [],
   "source": [
    "# Estadísticas básicas\n",
    "df.describe(include='all')\n"
   ]
  }
 ],
 "metadata": {},
 "nbformat": 4,
 "nbformat_minor": 5
}
